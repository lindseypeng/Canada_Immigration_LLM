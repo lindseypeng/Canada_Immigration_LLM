{
 "cells": [
  {
   "cell_type": "code",
   "execution_count": 8,
   "id": "412e829e-6579-4336-be5f-0b883fc23f9c",
   "metadata": {},
   "outputs": [
    {
     "name": "stdout",
     "output_type": "stream",
     "text": [
      "51\n"
     ]
    }
   ],
   "source": [
    "import os\n",
    "import openai\n",
    "from langchain.vectorstores import Chroma\n",
    "from langchain.embeddings.openai import OpenAIEmbeddings\n",
    "from langchain.chains import RetrievalQA\n",
    "from langchain.llms import OpenAI\n",
    "from langchain.chat_models import ChatOpenAI\n",
    "from langchain.prompts import PromptTemplate\n",
    "import timeit\n",
    "persist_directory = '/Users/linqianpeng/Documents/immigration/docs/chroma'\n",
    "\n",
    "openai_api_key = os.environ.get('OPENAI_API_KEY')\n",
    "\n",
    "print(len(openai_api_key))"
   ]
  },
  {
   "cell_type": "code",
   "execution_count": 4,
   "id": "bafc557f-5b4a-47a9-8c4a-ee397f441102",
   "metadata": {},
   "outputs": [
    {
     "name": "stdout",
     "output_type": "stream",
     "text": [
      "144\n"
     ]
    }
   ],
   "source": [
    "embedding = OpenAIEmbeddings()\n",
    "vectordb = Chroma(\n",
    "    persist_directory=persist_directory,\n",
    "    embedding_function=embedding\n",
    ")\n",
    "\n",
    "print(vectordb._collection.count())"
   ]
  },
  {
   "cell_type": "code",
   "execution_count": 12,
   "id": "9b343432-b9d8-4898-8a05-f1dcfd529ab7",
   "metadata": {},
   "outputs": [],
   "source": [
    "qa_stuff=RetrievalQA.from_chain_type(llm=OpenAI(), chain_type=\"stuff\", retriever=vectordb.as_retriever())\n",
    "\n",
    "qa_refine = RetrievalQA.from_chain_type(\n",
    "    llm=OpenAI(),\n",
    "    retriever=vectordb.as_retriever(),return_source_documents=True,\n",
    "    chain_type=\"refine\"\n",
    ")"
   ]
  },
  {
   "cell_type": "code",
   "execution_count": 9,
   "id": "c1a91bd2-6720-4128-880d-d6197e0f2896",
   "metadata": {},
   "outputs": [],
   "source": [
    "prompt_template = \"\"\"Below is an instruction that describes a task. Write a response that appropriately completes the request.\n",
    "\n",
    "  Instruction: \n",
    "  You are a immigration lawyer and your job is to answer questions on common law permanent resident (PR) application in Canada. \n",
    "  Use only information in the following paragraphs to answer the question at the end. \\\n",
    "  Explain the answer with reference to these paragraphs. If you don't know, say that you do not know.\n",
    "\n",
    "  {context}\n",
    " \n",
    "  Question: {question}\n",
    "\n",
    "  Response:\n",
    "  \"\"\"\n",
    "PROMPT = PromptTemplate(\n",
    "    template=prompt_template, input_variables=[\"context\", \"question\"]\n",
    ")\n",
    "\n",
    "chain_type_kwargs = {\"prompt\": PROMPT}"
   ]
  },
  {
   "cell_type": "code",
   "execution_count": 10,
   "id": "5865ab78-dca7-4cad-bbd8-5062a8b150c0",
   "metadata": {},
   "outputs": [],
   "source": [
    "llm_name= \"gpt-3.5-turbo\"\n",
    "\n",
    "llm = ChatOpenAI(model_name = llm_name,temperature=0)"
   ]
  },
  {
   "cell_type": "code",
   "execution_count": null,
   "id": "fb7e0c4a-ed58-4d24-a2d3-867819ad2f4c",
   "metadata": {},
   "outputs": [],
   "source": [
    "question = \"how long does it take to process my PR application?\"\n",
    "\n",
    "result = qa_refine({\"query\": question})\n"
   ]
  },
  {
   "cell_type": "code",
   "execution_count": 32,
   "id": "7998c8df-a4c4-4038-804c-21998be1b8c6",
   "metadata": {},
   "outputs": [
    {
     "name": "stdout",
     "output_type": "stream",
     "text": [
      "\n",
      "\n",
      "In the case of a spousal sponsorship, it typically takes 39 days for processing a PR application through the PNP + Express Entry route. However, processing times can vary depending on the individual situation. The standard processing for a spousal sponsorship is officially 80% of applications completed in 12 months, though many people have seen much quicker turnarounds recently. A benefit of the spousal sponsorship is that you can submit your application as soon as it's filled out, whereas with PNP + Express Entry you'll need to submit an EOI and then wait for an ITA (and eventually wait for an ITA after receiving the nomination). In this case, it may be best to call the relevant office to inquire about the status of your application, and to check if you need to resubmit any required documents. Despite the fact that your application is stuck at \"in review\" status, it is likely that your application will not be denied if it takes longer than 30 days to hear back from them. If you feel that there is a need to contact the IRCC, you can always look up the contact information online, or contact the office you initially sent your application to directly.\n"
     ]
    }
   ],
   "source": [
    "print(result['result'])"
   ]
  },
  {
   "cell_type": "code",
   "execution_count": 36,
   "id": "2ffe6304-341b-401a-a98b-e3ff9aad87e4",
   "metadata": {},
   "outputs": [],
   "source": [
    "result_noreturn=qa_stuff({\"query\": question})"
   ]
  },
  {
   "cell_type": "code",
   "execution_count": 37,
   "id": "c1de9e40-f59e-402c-8bb2-3d2289ef121f",
   "metadata": {},
   "outputs": [
    {
     "name": "stdout",
     "output_type": "stream",
     "text": [
      "\n",
      "\n",
      "In the case of a spousal sponsorship, it typically takes 39 days for processing a PR application through the PNP + Express Entry route. However, processing times can vary depending on the individual situation. The standard processing for a spousal sponsorship is officially 80% of applications completed in 12 months, though many people have seen much quicker turnarounds recently. A benefit of the spousal sponsorship is that you can submit your application as soon as it's filled out, whereas with PNP + Express Entry you'll need to submit an EOI and then wait for an ITA (and eventually wait for an ITA after receiving the nomination). In this case, it may be best to call the relevant office to inquire about the status of your application, and to check if you need to resubmit any required documents. Despite the fact that your application is stuck at \"in review\" status, it is likely that your application will not be denied if it takes longer than 30 days to hear back from them. If you feel that there is a need to contact the IRCC, you can always look up the contact information online, or contact the office you initially sent your application to directly.\n"
     ]
    }
   ],
   "source": [
    "print(result['result'])"
   ]
  },
  {
   "cell_type": "code",
   "execution_count": 40,
   "id": "c9a42a44-7350-4afd-87fd-6823b31de82a",
   "metadata": {},
   "outputs": [
    {
     "name": "stdout",
     "output_type": "stream",
     "text": [
      "CPU times: user 36.1 ms, sys: 7.26 ms, total: 43.3 ms\n",
      "Wall time: 5.74 s\n"
     ]
    }
   ],
   "source": [
    "%%time\n",
    "\n",
    "qa_chain = RetrievalQA.from_chain_type(\n",
    "    llm,\n",
    "    retriever=vectordb.as_retriever(),\n",
    "    chain_type=\"stuff\"\n",
    ")\n",
    "\n",
    "result = qa_chain({\"query\": question})"
   ]
  },
  {
   "cell_type": "code",
   "execution_count": 41,
   "id": "26a21307-a142-44ce-980a-3ad8e28da433",
   "metadata": {},
   "outputs": [
    {
     "name": "stdout",
     "output_type": "stream",
     "text": [
      "I don't know the specific processing time for your PR application. Processing times can vary depending on various factors such as the type of application, the current workload of the immigration office, and individual circumstances. It's best to check the official government website or contact the relevant immigration authority for the most accurate and up-to-date information on processing times.\n"
     ]
    }
   ],
   "source": [
    "print(result['result'])"
   ]
  },
  {
   "cell_type": "code",
   "execution_count": 43,
   "id": "2cd7571e-d6d7-4824-a523-42e1ea40b3af",
   "metadata": {},
   "outputs": [
    {
     "name": "stdout",
     "output_type": "stream",
     "text": [
      "CPU times: user 52.6 ms, sys: 9.25 ms, total: 61.8 ms\n",
      "Wall time: 36.2 s\n"
     ]
    }
   ],
   "source": [
    "%%time\n",
    "qa_chain = RetrievalQA.from_chain_type(\n",
    "    llm,\n",
    "    retriever=vectordb.as_retriever(),\n",
    "    chain_type=\"refine\"\n",
    ")\n",
    "\n",
    "result = qa_chain({\"query\": question})\n"
   ]
  },
  {
   "cell_type": "code",
   "execution_count": null,
   "id": "8054d5ca-4f5d-404e-a3bc-28b5f4893d32",
   "metadata": {},
   "outputs": [],
   "source": [
    "print(result['result'])"
   ]
  },
  {
   "cell_type": "code",
   "execution_count": 76,
   "id": "d23390a2-09ab-4381-b589-193f3dfcc0d8",
   "metadata": {},
   "outputs": [
    {
     "name": "stdout",
     "output_type": "stream",
     "text": [
      "CPU times: user 34.9 ms, sys: 10.7 ms, total: 45.7 ms\n",
      "Wall time: 10.6 s\n"
     ]
    }
   ],
   "source": [
    "%%time\n",
    "qa_chain = RetrievalQA.from_chain_type(\n",
    "    llm,\n",
    "    retriever=vectordb.as_retriever(),return_source_documents=True,\n",
    "    chain_type=\"stuff\"\n",
    ")\n",
    "\n",
    "result = qa_chain({\"query\": question})\n"
   ]
  },
  {
   "cell_type": "code",
   "execution_count": 87,
   "id": "bfbab60d-c9cc-4371-8c16-8397e575591e",
   "metadata": {},
   "outputs": [
    {
     "ename": "TypeError",
     "evalue": "'Document' object is not subscriptable",
     "output_type": "error",
     "traceback": [
      "\u001b[0;31m---------------------------------------------------------------------------\u001b[0m",
      "\u001b[0;31mTypeError\u001b[0m                                 Traceback (most recent call last)",
      "Cell \u001b[0;32mIn[87], line 2\u001b[0m\n\u001b[1;32m      1\u001b[0m \u001b[38;5;28;01mfor\u001b[39;00m i \u001b[38;5;129;01min\u001b[39;00m (result[\u001b[38;5;124m'\u001b[39m\u001b[38;5;124msource_documents\u001b[39m\u001b[38;5;124m'\u001b[39m]):\n\u001b[0;32m----> 2\u001b[0m     \u001b[38;5;28mprint\u001b[39m(\u001b[43mi\u001b[49m\u001b[43m[\u001b[49m\u001b[38;5;124;43m'\u001b[39;49m\u001b[38;5;124;43mcontent\u001b[39;49m\u001b[38;5;124;43m'\u001b[39;49m\u001b[43m]\u001b[49m)\n\u001b[1;32m      3\u001b[0m     \u001b[38;5;28mprint\u001b[39m()\n",
      "\u001b[0;31mTypeError\u001b[0m: 'Document' object is not subscriptable"
     ]
    }
   ],
   "source": [
    "for i in (result['source_documents']):\n",
    "    print(i['content'])\n",
    "    print()"
   ]
  },
  {
   "cell_type": "code",
   "execution_count": 93,
   "id": "2f7f8f75-f101-4478-8be5-a9cbc17a44a5",
   "metadata": {},
   "outputs": [
    {
     "name": "stdout",
     "output_type": "stream",
     "text": [
      "If you're concerned, you can always select 'Other' and upload a letter of explanation.\n",
      "question_length: 634\n",
      "answer_length: 346\n"
     ]
    }
   ],
   "source": [
    "print(i.page_content)"
   ]
  },
  {
   "cell_type": "code",
   "execution_count": 96,
   "id": "00aacc3a-c633-473e-9478-ff80020287cb",
   "metadata": {},
   "outputs": [
    {
     "data": {
      "text/plain": [
       "{'row': 53, 'source': 'ImmigrationCanada_Sponsorship_QA_may7.csv'}"
      ]
     },
     "execution_count": 96,
     "metadata": {},
     "output_type": "execute_result"
    }
   ],
   "source": [
    "i.metadata"
   ]
  },
  {
   "cell_type": "code",
   "execution_count": 97,
   "id": "c628d9f5-f56b-4230-92c1-df87a9ea6eea",
   "metadata": {},
   "outputs": [
    {
     "data": {
      "text/plain": [
       "Document(page_content=\"If you're concerned, you can always select 'Other' and upload a letter of explanation.\\nquestion_length: 634\\nanswer_length: 346\", metadata={'row': 53, 'source': 'ImmigrationCanada_Sponsorship_QA_may7.csv'})"
      ]
     },
     "execution_count": 97,
     "metadata": {},
     "output_type": "execute_result"
    }
   ],
   "source": []
  },
  {
   "cell_type": "code",
   "execution_count": 47,
   "id": "a3b79acd-7c50-4f9c-8280-9b14feed0ee1",
   "metadata": {},
   "outputs": [],
   "source": [
    "from langchain.memory import ConversationBufferMemory\n",
    "memory = ConversationBufferMemory(\n",
    "    memory_key=\"chat_history\",\n",
    "    return_messages=True\n",
    ")"
   ]
  },
  {
   "cell_type": "code",
   "execution_count": 49,
   "id": "cd079e6e-9f37-492b-9477-aaa525a728bd",
   "metadata": {},
   "outputs": [],
   "source": [
    "from langchain.chains import ConversationalRetrievalChain\n",
    "retriever=vectordb.as_retriever()\n",
    "qa = ConversationalRetrievalChain.from_llm(\n",
    "    llm,\n",
    "    retriever=retriever,\n",
    "    memory=memory)"
   ]
  },
  {
   "cell_type": "code",
   "execution_count": 52,
   "id": "cba3d73a-b250-4cf1-8fa4-329af46a873c",
   "metadata": {},
   "outputs": [
    {
     "name": "stdout",
     "output_type": "stream",
     "text": [
      "CPU times: user 25.2 ms, sys: 5.22 ms, total: 30.4 ms\n",
      "Wall time: 10.9 s\n"
     ]
    }
   ],
   "source": [
    "%%time\n",
    "\n",
    "question = \"how long does it take to process my PR application?\"\n",
    "\n",
    "qa_chain = RetrievalQA.from_chain_type(\n",
    "    llm,\n",
    "    retriever=vectordb.as_retriever(),return_source_documents=True,\n",
    "    chain_type=\"stuff\"\n",
    ")\n",
    "\n",
    "result = qa({\"question\": question})"
   ]
  },
  {
   "cell_type": "code",
   "execution_count": 53,
   "id": "e6b18552-ede9-43e9-a0a5-f7eead7676e4",
   "metadata": {},
   "outputs": [
    {
     "name": "stdout",
     "output_type": "stream",
     "text": [
      "{'question': 'how long does it take to process my PR application?', 'chat_history': [HumanMessage(content='how long does it take to process my PR application?', additional_kwargs={}, example=False), AIMessage(content=\"I don't know the specific processing time for your PR application. Processing times can vary depending on various factors such as the type of application, the current workload of the immigration office, and individual circumstances. It's best to check the official government website or contact the relevant immigration authority for the most accurate and up-to-date information on processing times.\", additional_kwargs={}, example=False)], 'answer': \"I don't know the specific processing time for your PR application. Processing times can vary depending on various factors such as the type of application, the current workload of the immigration office, and individual circumstances. It's best to check the official government website or contact the relevant immigration authority for the most accurate and up-to-date information on processing times.\"}\n"
     ]
    }
   ],
   "source": [
    "print(result)"
   ]
  },
  {
   "cell_type": "code",
   "execution_count": 55,
   "id": "831ae1a5-080e-4115-aad6-24775162ec0a",
   "metadata": {},
   "outputs": [
    {
     "name": "stdout",
     "output_type": "stream",
     "text": [
      "I don't know the specific processing time for your PR application. Processing times can vary depending on various factors such as the type of application, the current workload of the immigration office, and individual circumstances. It's best to check the official government website or contact the relevant immigration authority for the most accurate and up-to-date information on processing times.\n"
     ]
    }
   ],
   "source": [
    "print(result['answer'])"
   ]
  },
  {
   "cell_type": "code",
   "execution_count": 56,
   "id": "f219d3eb-086e-4a54-80fb-d25105c07ab0",
   "metadata": {},
   "outputs": [],
   "source": [
    "question = \"can you give me an range based on other's experiences?\"\n",
    "result = qa({\"question\": question})"
   ]
  },
  {
   "cell_type": "code",
   "execution_count": 57,
   "id": "04e503c5-d311-400f-8183-0a0b316cb9b3",
   "metadata": {},
   "outputs": [
    {
     "name": "stdout",
     "output_type": "stream",
     "text": [
      "The processing times for PR applications can vary greatly depending on various factors such as the type of application, the country of residence, and the current workload of the immigration authorities. Generally, the standard processing time for a spousal sponsorship application is officially 80% of applications completed in 12 months. However, many people have been experiencing quicker turnarounds recently. On the other hand, the processing time for a Provincial Nominee Program (PNP) application through Express Entry can be shorter, but it still varies from case to case. It's important to note that these are just general estimates and individual processing times may differ.\n"
     ]
    }
   ],
   "source": [
    "print(result['answer'])"
   ]
  },
  {
   "cell_type": "code",
   "execution_count": 67,
   "id": "4314cebb-cdf5-4101-955e-0c70b9754373",
   "metadata": {},
   "outputs": [
    {
     "name": "stdout",
     "output_type": "stream",
     "text": [
      "The processing times for PR applications can vary greatly depending on various factors such as the type of application, the country of residence, and the current workload of the immigration authorities. Generally, the standard processing time for a spousal sponsorship application is officially 80% of applications completed in 12 months. However, many people have been experiencing quicker turnarounds recently. On the other hand, the processing time for a Provincial Nominee Program (PNP) application through Express Entry can be shorter, but it still varies from case to case. It's important to note that these are just general estimates and individual processing times may differ.\n"
     ]
    }
   ],
   "source": [
    "print(result['answer'])"
   ]
  },
  {
   "cell_type": "code",
   "execution_count": 68,
   "id": "7c9dbca1-d9ed-4949-929d-e11bd0dfe0d0",
   "metadata": {},
   "outputs": [
    {
     "name": "stdout",
     "output_type": "stream",
     "text": [
      "can you give me an range based on other's experiences?\n"
     ]
    }
   ],
   "source": [
    "print(result['question'])"
   ]
  },
  {
   "cell_type": "code",
   "execution_count": 59,
   "id": "d642aa83-922a-4c92-bc2d-f38c4e026252",
   "metadata": {},
   "outputs": [
    {
     "data": {
      "text/plain": [
       "['question', 'chat_history', 'answer']"
      ]
     },
     "execution_count": 59,
     "metadata": {},
     "output_type": "execute_result"
    }
   ],
   "source": [
    "list(result)"
   ]
  },
  {
   "cell_type": "code",
   "execution_count": 65,
   "id": "84cd0e80-a8bd-4c54-b57d-4e71d8e8562d",
   "metadata": {},
   "outputs": [
    {
     "data": {
      "text/plain": [
       "HumanMessage(content='how long does it take to process my PR application?', additional_kwargs={}, example=False)"
      ]
     },
     "execution_count": 65,
     "metadata": {},
     "output_type": "execute_result"
    }
   ],
   "source": [
    "result['chat_history'][0]"
   ]
  },
  {
   "cell_type": "code",
   "execution_count": 66,
   "id": "6a05b64c-6b80-4861-be19-83bea690dd5d",
   "metadata": {},
   "outputs": [
    {
     "data": {
      "text/plain": [
       "AIMessage(content=\"I don't know the specific processing time for your PR application. Processing times can vary depending on various factors such as the type of application, the current workload of the immigration office, and individual circumstances. It's best to check the official government website or contact the relevant immigration authority for the most accurate and up-to-date information on processing times.\", additional_kwargs={}, example=False)"
      ]
     },
     "execution_count": 66,
     "metadata": {},
     "output_type": "execute_result"
    }
   ],
   "source": [
    "result['chat_history'][1]"
   ]
  },
  {
   "cell_type": "code",
   "execution_count": 72,
   "id": "6e5c6f17-edde-4af1-99e0-941345a13639",
   "metadata": {},
   "outputs": [
    {
     "name": "stdout",
     "output_type": "stream",
     "text": [
      "content='how long does it take to process my PR application?' additional_kwargs={} example=False\n",
      "\n",
      "content=\"I don't know the specific processing time for your PR application. Processing times can vary depending on various factors such as the type of application, the current workload of the immigration office, and individual circumstances. It's best to check the official government website or contact the relevant immigration authority for the most accurate and up-to-date information on processing times.\" additional_kwargs={} example=False\n",
      "\n",
      "content=\"can you give me an range based on other's experiences?\" additional_kwargs={} example=False\n",
      "\n",
      "content=\"The processing times for PR applications can vary greatly depending on various factors such as the type of application, the country of residence, and the current workload of the immigration authorities. Generally, the standard processing time for a spousal sponsorship application is officially 80% of applications completed in 12 months. However, many people have been experiencing quicker turnarounds recently. On the other hand, the processing time for a Provincial Nominee Program (PNP) application through Express Entry can be shorter, but it still varies from case to case. It's important to note that these are just general estimates and individual processing times may differ.\" additional_kwargs={} example=False\n",
      "\n"
     ]
    }
   ],
   "source": [
    "for i in result['chat_history']:\n",
    "    print(i)\n",
    "    print()"
   ]
  },
  {
   "cell_type": "code",
   "execution_count": 75,
   "id": "be05d30d-8c52-4f82-a688-bb051aa67979",
   "metadata": {},
   "outputs": [
    {
     "data": {
      "text/plain": [
       "\"The processing times for PR applications can vary greatly depending on various factors such as the type of application, the country of residence, and the current workload of the immigration authorities. Generally, the standard processing time for a spousal sponsorship application is officially 80% of applications completed in 12 months. However, many people have been experiencing quicker turnarounds recently. On the other hand, the processing time for a Provincial Nominee Program (PNP) application through Express Entry can be shorter, but it still varies from case to case. It's important to note that these are just general estimates and individual processing times may differ.\""
      ]
     },
     "execution_count": 75,
     "metadata": {},
     "output_type": "execute_result"
    }
   ],
   "source": [
    "i.content"
   ]
  },
  {
   "cell_type": "code",
   "execution_count": null,
   "id": "4f048931-03e4-4386-af55-700784684edd",
   "metadata": {},
   "outputs": [],
   "source": []
  }
 ],
 "metadata": {
  "kernelspec": {
   "display_name": "Python 3 (ipykernel)",
   "language": "python",
   "name": "python3"
  },
  "language_info": {
   "codemirror_mode": {
    "name": "ipython",
    "version": 3
   },
   "file_extension": ".py",
   "mimetype": "text/x-python",
   "name": "python",
   "nbconvert_exporter": "python",
   "pygments_lexer": "ipython3",
   "version": "3.9.6"
  }
 },
 "nbformat": 4,
 "nbformat_minor": 5
}
