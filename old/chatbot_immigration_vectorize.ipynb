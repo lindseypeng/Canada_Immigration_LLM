{
 "cells": [
  {
   "cell_type": "code",
   "execution_count": 30,
   "id": "dae6c7bc-26ef-4a77-af00-d8ff1c2864a5",
   "metadata": {},
   "outputs": [],
   "source": [
    "from langchain.vectorstores import Chroma\n",
    "from langchain.embeddings import OpenAIEmbeddings\n",
    "from langchain.text_splitter import RecursiveCharacterTextSplitter\n",
    "from langchain.llms import OpenAI\n",
    "from langchain.chains import VectorDBQA\n",
    "from langchain.document_loaders import TextLoader\n",
    "from langchain.chains import RetrievalQA\n",
    "\n",
    "import pandas as pd\n",
    "import openai\n",
    "import os \n",
    "pd.options.display.max_colwidth = None\n",
    "\n"
   ]
  },
  {
   "cell_type": "code",
   "execution_count": 4,
   "id": "7cc3052e-2725-4b26-9aa8-50a491855acc",
   "metadata": {},
   "outputs": [
    {
     "name": "stdout",
     "output_type": "stream",
     "text": [
      "51\n"
     ]
    }
   ],
   "source": [
    "\n",
    "openai_api_key = os.environ.get('OPENAI_API_KEY')\n",
    "print(len(openai_api_key))"
   ]
  },
  {
   "cell_type": "code",
   "execution_count": 5,
   "id": "e679baac-7bc9-4a01-8cbf-f438345adbb7",
   "metadata": {},
   "outputs": [],
   "source": [
    "from langchain.document_loaders.csv_loader import CSVLoader"
   ]
  },
  {
   "cell_type": "code",
   "execution_count": 7,
   "id": "6326d6e3-afb5-416d-954d-54c7f04b9c22",
   "metadata": {},
   "outputs": [],
   "source": [
    "loader = CSVLoader(file_path=\"ImmigrationCanada_Sponsorship_QA_may7.csv\")\n",
    "\n",
    "data = loader.load()"
   ]
  },
  {
   "cell_type": "code",
   "execution_count": 31,
   "id": "658c8a2c-bab1-475d-87b6-4c9bc35dd218",
   "metadata": {},
   "outputs": [
    {
     "name": "stdout",
     "output_type": "stream",
     "text": [
      "question: I'm the PA, sponsored by my Canadian husband, an outland application. I'm a US citizen.\n",
      "\n",
      "I got my PPR at the end of April and within a few days I had sent them everything they needed, EXCEPT an envelope in which to send me my CoPR...\n",
      "\n",
      "I'm wondering two things: 1) Is it possible they'll have mercy on me and just grab a plain envelope to send my stuff back in? I sent them a return label for UPS, and I'd think they can just send the documents in any old envelope... and 2) How long will it take them to notify me if they will require me to send the things again?\n",
      "\n",
      "I'm grinding my teeth over here trying to figure out how to be proactive in this situation. Should I submit a case-specific inquiry? Should I try to call somewhere? **Will my whole application be denied if it takes longer than 30 days (the required PPR turnaround time) to hear back from them?**\n",
      "\n",
      "Last thing: I'm wondering about tracking. I login to the mycic dashboard to see my application status. I haven't been able to login the other way, the ircc-tracker. It won't let me make an account. Can you see your CoPR number appear on the mycic application dashboard, or just on that tracker site?... I figure if I saw a CoPR number appear, I'd know they weren't going to make me send my PPR stuff again...\n",
      "\n",
      "**THANK YOU FOR YOUR THOUGHTS!**\n",
      "answer: I didn’t not read the full thing but from what I could gather you forgot to pack in a return envelope with stamps or w/e right? In my opinion they will just mail it via regular mail to the address they have on file. I believe it will take longer for your mail to reach back to you ..\n",
      "question_length: 1304\n",
      "answer_length: 283\n"
     ]
    }
   ],
   "source": [
    "print((data[0].page_content))"
   ]
  },
  {
   "cell_type": "code",
   "execution_count": 17,
   "id": "69142095-3282-489f-a560-e043e4b95509",
   "metadata": {},
   "outputs": [],
   "source": [
    "text_splitter = RecursiveCharacterTextSplitter(chunk_size=1000, chunk_overlap=0)\n",
    "texts = text_splitter.split_documents(data)"
   ]
  },
  {
   "cell_type": "code",
   "execution_count": 19,
   "id": "3c251034-aff7-493b-8122-7257dfd553c0",
   "metadata": {},
   "outputs": [],
   "source": [
    "persist_directory = 'docs/chroma/'\n"
   ]
  },
  {
   "cell_type": "code",
   "execution_count": 36,
   "id": "fdf2d963-0325-40ca-bd77-8cbf7af471b1",
   "metadata": {},
   "outputs": [],
   "source": [
    "!rm -rf ./docs/chroma"
   ]
  },
  {
   "cell_type": "code",
   "execution_count": 21,
   "id": "ef9fbd81-d379-4cc9-a9a1-a710f4f0385d",
   "metadata": {},
   "outputs": [],
   "source": [
    "embeddings = OpenAIEmbeddings()\n",
    "vectordb = Chroma.from_documents(texts, embeddings,persist_directory=persist_directory)"
   ]
  },
  {
   "cell_type": "code",
   "execution_count": 22,
   "id": "f9a5ccaf-cc2c-4d38-8d64-d82eeb91ef25",
   "metadata": {},
   "outputs": [],
   "source": [
    "question = \"can i go out of the country while waiting for PR\""
   ]
  },
  {
   "cell_type": "code",
   "execution_count": 23,
   "id": "71880f2e-a20a-4e6f-8fb5-b334f2d868aa",
   "metadata": {},
   "outputs": [],
   "source": [
    "docs = vectordb.similarity_search(question,k=3)"
   ]
  },
  {
   "cell_type": "code",
   "execution_count": 26,
   "id": "95e3ac23-4366-4a1c-8333-74a7a85e4adf",
   "metadata": {},
   "outputs": [
    {
     "name": "stdout",
     "output_type": "stream",
     "text": [
      "question: Just filed PR application for my wife (got married abroad last month). I’m a PR living in Canada but she’s back home. Can I also apply for a tourist visa for her so she can come visit me while we wait for her PR application to go through?\n",
      "answer: Yes. \n",
      "\n",
      "Officially the two applications do not have an effect on each other.\n",
      "\n",
      "That said, it can be harder to convince an IRCC agent of your intention to return to your home country if your spouse is in Canada and you're in the process of wrapping up your life to move. For that reason, it can be difficult to obtain a visitor visa for spouses who are currently being sponsored. Not impossible, of course, but many people do have them refused.\n",
      "question_length: 238\n",
      "answer_length: 441\n"
     ]
    }
   ],
   "source": [
    "print(docs[0].page_content)"
   ]
  },
  {
   "cell_type": "code",
   "execution_count": 28,
   "id": "f01b814e-cdde-4faa-b0bc-685ff209c289",
   "metadata": {},
   "outputs": [],
   "source": [
    "vectordb.persist()"
   ]
  },
  {
   "cell_type": "code",
   "execution_count": 32,
   "id": "5deebf4e-24fe-4535-b575-387fe0aa3144",
   "metadata": {},
   "outputs": [
    {
     "name": "stdout",
     "output_type": "stream",
     "text": [
      "288\n"
     ]
    }
   ],
   "source": [
    "print(vectordb._collection.count())"
   ]
  },
  {
   "cell_type": "code",
   "execution_count": null,
   "id": "66456e16-ce4e-4c1d-ace5-a09471d2baab",
   "metadata": {},
   "outputs": [],
   "source": []
  }
 ],
 "metadata": {
  "kernelspec": {
   "display_name": "Python 3 (ipykernel)",
   "language": "python",
   "name": "python3"
  },
  "language_info": {
   "codemirror_mode": {
    "name": "ipython",
    "version": 3
   },
   "file_extension": ".py",
   "mimetype": "text/x-python",
   "name": "python",
   "nbconvert_exporter": "python",
   "pygments_lexer": "ipython3",
   "version": "3.9.6"
  }
 },
 "nbformat": 4,
 "nbformat_minor": 5
}
