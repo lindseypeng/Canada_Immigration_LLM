{
 "cells": [
  {
   "cell_type": "code",
   "execution_count": 1,
   "id": "465401ff-aa6b-432f-af53-2a6ab280070f",
   "metadata": {},
   "outputs": [
    {
     "name": "stdout",
     "output_type": "stream",
     "text": [
      "51\n"
     ]
    },
    {
     "name": "stderr",
     "output_type": "stream",
     "text": [
      "/Users/linqianpeng/Documents/IsThisNormal/isthisnormal/lib/python3.9/site-packages/urllib3/__init__.py:34: NotOpenSSLWarning: urllib3 v2.0 only supports OpenSSL 1.1.1+, currently the 'ssl' module is compiled with 'LibreSSL 2.8.3'. See: https://github.com/urllib3/urllib3/issues/3020\n",
      "  warnings.warn(\n"
     ]
    }
   ],
   "source": [
    "import os\n",
    "import openai\n",
    "\n",
    "\n",
    "openai_api_key = os.environ.get('OPENAI_API_KEY')\n",
    "\n",
    "print(len(openai_api_key))"
   ]
  },
  {
   "cell_type": "code",
   "execution_count": 15,
   "id": "e0d2ff40-aa40-436b-acd8-d566a608dc54",
   "metadata": {},
   "outputs": [],
   "source": [
    "from langchain.vectorstores import Chroma\n",
    "from langchain.embeddings.openai import OpenAIEmbeddings\n",
    "persist_directory = '/Users/linqianpeng/Documents/immigration/docs/chroma'"
   ]
  },
  {
   "cell_type": "code",
   "execution_count": 16,
   "id": "bf68a114-f931-4806-8aa4-521cf56fc9c3",
   "metadata": {},
   "outputs": [],
   "source": [
    "embedding = OpenAIEmbeddings()\n",
    "vectordb = Chroma(\n",
    "    persist_directory=persist_directory,\n",
    "    embedding_function=embedding\n",
    ")"
   ]
  },
  {
   "cell_type": "code",
   "execution_count": 17,
   "id": "6d34b820-f124-4b20-9985-01b2b087dc48",
   "metadata": {},
   "outputs": [
    {
     "name": "stdout",
     "output_type": "stream",
     "text": [
      "144\n"
     ]
    }
   ],
   "source": [
    "print(vectordb._collection.count())"
   ]
  },
  {
   "cell_type": "code",
   "execution_count": 22,
   "id": "a251e1ee-0ac4-47b5-a3d0-b0ce714696ad",
   "metadata": {},
   "outputs": [
    {
     "name": "stdout",
     "output_type": "stream",
     "text": [
      "\n",
      "(Document(page_content=\"question: Has this happened to anyone? It's only been 35 days since submitting the photo, however we have a trip planned in two weeks and we're starting to get a bit nervous the pr card will arrive by then.\\n\\nCurrent processing times show 39 days, and we've still got time and can make alternate plans to go to a border city and cross with copr, just mainly wondering if anyone had the experience above with the photo showing in review sometimes and looking different other times. \\n\\nThanks!!!\\nanswer: I got my PR card. The portal always said under review even after i got it.\\nquestion_length: 481\\nanswer_length: 74\", metadata={'row': 79, 'source': 'ImmigrationCanada_Sponsorship_QA_may7.csv'}), 0.3906608779672101)\n",
      "\n",
      "(Document(page_content=\"question: Application received - May 27, 2022\\n\\nBiometrics Received/Enrolled - Oct 12,2022\\n\\nBackground check - Oct 12,2022\\n\\nMedical Exam passed - Nov 11, 2022\\n\\nDead silence afterwards, no responses given.\\n\\nWhat should we do?\\nanswer: What do your trackers say? GCKey the PR tracker etc. When you say 'background check' do you mean it started or completed?\\n\\nYou can order GCMS notes to see if there's a hold up anywhere. If your spouse is in Canada they can potentially contact their MP and ask the MP to inquire on their behalf. This can be pretty hit-or-miss though so I wouldn't pin too much hope on it.\\nquestion_length: 213\\nanswer_length: 371\", metadata={'row': 11, 'source': 'ImmigrationCanada_Sponsorship_QA_may7.csv'}), 0.390777051448822)\n",
      "\n",
      "(Document(page_content='question: My partner and I have a spousal sponsorship PR app being processed in Brazil. It says visa application centres outside Canada are still operating, does this mean Outland applications will not be affected by the strike? \\n\\nI mean we’ve been waiting 17 months already with barely any communication so what’s another delay am I right? 🤷🏻\\u200d♀️💔\\nanswer: 17 months? Ouch, sorry to hear that. What is your timeline?\\nquestion_length: 337\\nanswer_length: 59', metadata={'row': 63, 'source': 'ImmigrationCanada_Sponsorship_QA_may7.csv'}), 0.41519128069532507)\n"
     ]
    }
   ],
   "source": [
    "similarresults=(vectordb.similarity_search_with_score(\"what is the estimated length date of processing?\",3))\n",
    "for i in similarresults:\n",
    "    print()\n",
    "    print(i)"
   ]
  },
  {
   "cell_type": "code",
   "execution_count": 23,
   "id": "820e9794-7a64-49ea-b725-a7370b731084",
   "metadata": {},
   "outputs": [
    {
     "name": "stdout",
     "output_type": "stream",
     "text": [
      "\n",
      "page_content=\"question: Has this happened to anyone? It's only been 35 days since submitting the photo, however we have a trip planned in two weeks and we're starting to get a bit nervous the pr card will arrive by then.\\n\\nCurrent processing times show 39 days, and we've still got time and can make alternate plans to go to a border city and cross with copr, just mainly wondering if anyone had the experience above with the photo showing in review sometimes and looking different other times. \\n\\nThanks!!!\\nanswer: I got my PR card. The portal always said under review even after i got it.\\nquestion_length: 481\\nanswer_length: 74\" metadata={'row': 79, 'source': 'ImmigrationCanada_Sponsorship_QA_may7.csv'}\n",
      "\n",
      "page_content=\"So, in theory, a spousal sponsorship - despite having a longer official processing time - might be faster in the long run because there's no wait time, you can just submit right away. I'm not as familiar with the PhD graduate stream or its processing, but if that has the chance of an ITA right away, then this consideration might be moot.\\n\\nOf course, the types of documents required for both streams are very different and you may find one much more straightforward than the other.\\n\\nEdit: See below, the PhD stream is not EE, it's a paper stream, which do tend to see longer processing as well. I was unaware and that's my bad.\\nquestion_length: 149\\nanswer_length: 1344\" metadata={'row': 13, 'source': 'ImmigrationCanada_Sponsorship_QA_may7.csv'}\n",
      "\n",
      "page_content=\"If you're concerned, you can always select 'Other' and upload a letter of explanation.\\nquestion_length: 634\\nanswer_length: 346\" metadata={'row': 53, 'source': 'ImmigrationCanada_Sponsorship_QA_may7.csv'}\n"
     ]
    }
   ],
   "source": [
    "\n",
    "diverseresults=(vectordb.max_marginal_relevance_search(\"what is the estimated length date of processing?\",3))\n",
    "for i in diverseresults:\n",
    "    print()\n",
    "    print(i)"
   ]
  },
  {
   "cell_type": "code",
   "execution_count": 24,
   "id": "f394aebb-b49e-458c-93e1-46ec9ea46dcc",
   "metadata": {},
   "outputs": [
    {
     "name": "stdout",
     "output_type": "stream",
     "text": [
      "{'row': 79, 'source': 'ImmigrationCanada_Sponsorship_QA_may7.csv'}\n",
      "{'row': 13, 'source': 'ImmigrationCanada_Sponsorship_QA_may7.csv'}\n",
      "{'row': 53, 'source': 'ImmigrationCanada_Sponsorship_QA_may7.csv'}\n"
     ]
    }
   ],
   "source": [
    "for d in diverseresults:\n",
    "    print(d.metadata)"
   ]
  }
 ],
 "metadata": {
  "kernelspec": {
   "display_name": "Python 3 (ipykernel)",
   "language": "python",
   "name": "python3"
  },
  "language_info": {
   "codemirror_mode": {
    "name": "ipython",
    "version": 3
   },
   "file_extension": ".py",
   "mimetype": "text/x-python",
   "name": "python",
   "nbconvert_exporter": "python",
   "pygments_lexer": "ipython3",
   "version": "3.9.6"
  }
 },
 "nbformat": 4,
 "nbformat_minor": 5
}
