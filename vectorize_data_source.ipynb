{
 "cells": [
  {
   "cell_type": "code",
   "execution_count": 6,
   "id": "416ab4e8-ee09-42a6-b1a7-7d918b2c7a8c",
   "metadata": {},
   "outputs": [],
   "source": [
    "from langchain.document_loaders import BSHTMLLoader\n",
    "from bs4 import BeautifulSoup\n",
    "import os\n",
    "from langchain.text_splitter import RecursiveCharacterTextSplitter, CharacterTextSplitter\n",
    "from langchain.embeddings import OpenAIEmbeddings\n",
    "from langchain.vectorstores import Chroma\n",
    "from langchain.document_loaders import DirectoryLoader\n",
    "from langchain.document_loaders.csv_loader import CSVLoader\n",
    "## reference\n",
    "##https://colab.research.google.com/drive/1gyGZn_LZNrYXYXa-pltFExbptIe7DAPe?usp=sharing#scrollTo=wKfX4vX-5RFT"
   ]
  },
  {
   "cell_type": "code",
   "execution_count": null,
   "id": "7f7dfeca-9238-4ac9-b5b5-d65e3474ec44",
   "metadata": {},
   "outputs": [],
   "source": [
    "# read in files\n",
    "\n",
    "folder_path = '/Users/linqianpeng/Documents/immigration/data/canadian_government/Family sponsorship'\n",
    "\n",
    "## List all files in the specified directory\n",
    "all_files = os.listdir(folder_path)\n",
    "\n",
    "## Filter out only files that have .html extension\n",
    "html_files = [file for file in all_files if file.endswith('.html')]"
   ]
  },
  {
   "cell_type": "code",
   "execution_count": 82,
   "id": "f740e138-c17d-45fd-b891-6e95f37502e6",
   "metadata": {},
   "outputs": [],
   "source": [
    "## loading data from canada government html files folder\n",
    "\n",
    "loader = DirectoryLoader(folder_path, glob=\"**/*.html\")\n",
    "docs = loader.load()"
   ]
  },
  {
   "cell_type": "code",
   "execution_count": 83,
   "id": "11ba5c50-8fce-4e7b-b22f-9ba57f1f8342",
   "metadata": {},
   "outputs": [
    {
     "name": "stdout",
     "output_type": "stream",
     "text": [
      "11 11\n"
     ]
    }
   ],
   "source": [
    "print(len(docs),len(html_files))"
   ]
  },
  {
   "cell_type": "code",
   "execution_count": 85,
   "id": "2a7e86bb-b805-4044-bab7-a9e6654f9d55",
   "metadata": {},
   "outputs": [
    {
     "name": "stdout",
     "output_type": "stream",
     "text": [
      "51\n"
     ]
    }
   ],
   "source": [
    "openai_api_key = os.environ.get('OPENAI_API_KEY')\n",
    "print(len(openai_api_key))"
   ]
  },
  {
   "cell_type": "code",
   "execution_count": 115,
   "id": "5b20cb9e-b0f6-46bd-a307-429e166a0c5b",
   "metadata": {},
   "outputs": [],
   "source": [
    "## load data from reddit forum in csv file \n",
    "\n",
    "loader = CSVLoader(file_path=\"reddit_results.csv\")\n",
    "\n",
    "data = loader.load()"
   ]
  },
  {
   "cell_type": "code",
   "execution_count": 86,
   "id": "61639182-2c53-4d0c-991a-cf191af28ed8",
   "metadata": {},
   "outputs": [],
   "source": [
    "#splitting the text into\n",
    "text_splitter = RecursiveCharacterTextSplitter(chunk_size=1000, chunk_overlap=200)\n",
    "texts = text_splitter.split_documents(docs)"
   ]
  },
  {
   "cell_type": "code",
   "execution_count": 95,
   "id": "3a08d57a-aa31-4143-83da-0bd3dc413bbe",
   "metadata": {},
   "outputs": [
    {
     "data": {
      "text/plain": [
       "405"
      ]
     },
     "execution_count": 95,
     "metadata": {},
     "output_type": "execute_result"
    }
   ],
   "source": [
    "len(texts)"
   ]
  },
  {
   "cell_type": "code",
   "execution_count": 116,
   "id": "7f8c917d-a248-4991-a0bb-a9f5b3771fa0",
   "metadata": {},
   "outputs": [
    {
     "name": "stdout",
     "output_type": "stream",
     "text": [
      "1119\n"
     ]
    }
   ],
   "source": [
    "#splitting the reddit forum texts\n",
    "text_splitter = RecursiveCharacterTextSplitter(chunk_size=1000, chunk_overlap=200)\n",
    "texts = text_splitter.split_documents(data)\n",
    "print(len(texts))"
   ]
  },
  {
   "cell_type": "code",
   "execution_count": 69,
   "id": "96707132-0e17-4a13-b9a7-de019bb5b8e7",
   "metadata": {},
   "outputs": [],
   "source": [
    "## vectoriza"
   ]
  },
  {
   "cell_type": "code",
   "execution_count": 7,
   "id": "dccad3cf-9118-4c41-9c16-9a5ef25f1fa2",
   "metadata": {},
   "outputs": [],
   "source": [
    "persist_directory = 'docs/chroma/canadiangovernment/'"
   ]
  },
  {
   "cell_type": "code",
   "execution_count": 118,
   "id": "d5eb40d6-c0a7-455f-9b9b-2b1d7d7b4dc6",
   "metadata": {},
   "outputs": [],
   "source": [
    "\n",
    "embeddings = OpenAIEmbeddings()\n",
    "vectordb = Chroma.from_documents(texts, embeddings,persist_directory=persist_directory)"
   ]
  },
  {
   "cell_type": "code",
   "execution_count": 119,
   "id": "f93f1cb4-3ab6-464a-829b-cf5124313148",
   "metadata": {},
   "outputs": [],
   "source": [
    "## here we are using OpenAI embeddings but in future we will swap out to local embeddings\n",
    "embedding = OpenAIEmbeddings()\n",
    "\n",
    "vectordb = Chroma.from_documents(documents=texts, \n",
    "                                 embedding=embedding,\n",
    "                                 persist_directory=persist_directory)"
   ]
  },
  {
   "cell_type": "code",
   "execution_count": 120,
   "id": "d4b236fa-2e19-44db-b7a6-3ec558c40c01",
   "metadata": {},
   "outputs": [
    {
     "name": "stdout",
     "output_type": "stream",
     "text": [
      "2813\n"
     ]
    }
   ],
   "source": [
    "print(vectordb._collection.count())"
   ]
  },
  {
   "cell_type": "code",
   "execution_count": 94,
   "id": "feb0d15f-648c-4245-ae4c-77509e9c6844",
   "metadata": {},
   "outputs": [
    {
     "name": "stdout",
     "output_type": "stream",
     "text": [
      "575\n"
     ]
    }
   ],
   "source": [
    "##html file\n",
    "print(vectordb._collection.count())"
   ]
  },
  {
   "cell_type": "code",
   "execution_count": 121,
   "id": "f88c8f30-9662-4964-ab58-e4cb24ed4a7c",
   "metadata": {},
   "outputs": [],
   "source": [
    "# persiste the db to disk\n",
    "vectordb.persist()\n",
    "vectordb = None"
   ]
  },
  {
   "cell_type": "code",
   "execution_count": 8,
   "id": "51d0ac37-2d0d-4e4e-9a2b-4df0e1573d15",
   "metadata": {},
   "outputs": [],
   "source": [
    "embedding = OpenAIEmbeddings()\n",
    "vectordb = Chroma(persist_directory=persist_directory, \n",
    "                  embedding_function=embedding)"
   ]
  },
  {
   "cell_type": "code",
   "execution_count": 9,
   "id": "582125c5-454d-411f-9b15-3f0706739214",
   "metadata": {},
   "outputs": [
    {
     "name": "stdout",
     "output_type": "stream",
     "text": [
      "2813\n"
     ]
    }
   ],
   "source": [
    "print(vectordb._collection.count())"
   ]
  },
  {
   "cell_type": "code",
   "execution_count": 124,
   "id": "ddc608a4-5875-457b-8f6e-f5fc41730c62",
   "metadata": {},
   "outputs": [],
   "source": [
    "retriever = vectordb.as_retriever()\n",
    "docs = retriever.get_relevant_documents(\"what are the requirement to apply for common law?\")"
   ]
  },
  {
   "cell_type": "code",
   "execution_count": 12,
   "id": "6eee854d-eced-40b8-a0fd-5258218b54e5",
   "metadata": {},
   "outputs": [
    {
     "name": "stderr",
     "output_type": "stream",
     "text": [
      "/Users/linqianpeng/Documents/IsThisNormal/isthisnormal/lib/python3.9/site-packages/huggingface_hub/utils/_deprecation.py:127: FutureWarning: '__init__' (from 'huggingface_hub.inference_api') is deprecated and will be removed from version '0.19.0'. `InferenceApi` client is deprecated in favor of the more feature-complete `InferenceClient`. Check out this guide to learn how to convert your script to use it: https://huggingface.co/docs/huggingface_hub/guides/inference#legacy-inferenceapi-client.\n",
      "  warnings.warn(warning_message, FutureWarning)\n"
     ]
    }
   ],
   "source": [
    "from langchain import HuggingFaceHub, PromptTemplate, LLMChain\n",
    "huggingfacehub_api_token = os.environ['HUGGINGFACEHUB_API_TOKEN']\n",
    "repo_id = \"tiiuae/falcon-7b-instruct\"\n",
    "\n",
    "repo_id = \"meta-llama/Llama-2-7b-chat-hf\"\n",
    "llm = HuggingFaceHub(huggingfacehub_api_token=huggingfacehub_api_token, \n",
    "                     repo_id=repo_id, \n",
    "                     model_kwargs={\"temperature\":0.6, \"max_new_tokens\":500})"
   ]
  },
  {
   "cell_type": "code",
   "execution_count": 14,
   "id": "817a5d6a-64ea-495a-aa47-8df3e6a36173",
   "metadata": {},
   "outputs": [],
   "source": [
    "from langchain.chains import RetrievalQA\n",
    "from langchain.llms import OpenAI\n",
    "retriever = vectordb.as_retriever()\n",
    "qa_chain = RetrievalQA.from_chain_type(llm=llm,#OpenAI(), \n",
    "                                  chain_type=\"stuff\", \n",
    "                                  retriever=retriever, \n",
    "                                  return_source_documents=True)"
   ]
  },
  {
   "cell_type": "code",
   "execution_count": null,
   "id": "0ebde63f-6a86-4802-9bd5-82feac2a4a29",
   "metadata": {},
   "outputs": [],
   "source": []
  },
  {
   "cell_type": "code",
   "execution_count": 15,
   "id": "43aa5c60-ac3f-4bc4-a9c4-002be13859e1",
   "metadata": {},
   "outputs": [],
   "source": [
    "## Cite sources\n",
    "def process_llm_response(llm_response):\n",
    "    print(llm_response['result'])\n",
    "    print('\\n\\nSources:')\n",
    "    for source in llm_response[\"source_documents\"]:\n",
    "        print(source.metadata['source'])"
   ]
  },
  {
   "cell_type": "code",
   "execution_count": 16,
   "id": "ee9276a6-62aa-4fe6-bb23-a137cbafd062",
   "metadata": {},
   "outputs": [
    {
     "name": "stdout",
     "output_type": "stream",
     "text": [
      "\n",
      "\n",
      "It is important to note that you should not use a letter of employment from your current employer as your main reference. Instead, you should use a letter of employment from a previous employer. However, if you do not have a previous employer, you can use a letter of recommendation from a professional or a friend. \n",
      "\n",
      "Key points to keep in mind:\n",
      "\n",
      "1. The letter should be on your company's letterhead or from a reputable organization.\n",
      "2. The letter should address the hiring manager or HR representative.\n",
      "3. The letter should be concise and to the point.\n",
      "4. The letter should provide information about your previous job duties and your qualifications.\n",
      "5. The letter should be from someone other than a family member.\n",
      "6. The letter should be from someone who knows you well and can provide a positive reference.\n",
      "\n",
      "\n",
      "Sources:\n",
      "reddit_results.csv\n",
      "reddit_results.csv\n",
      "reddit_results.csv\n",
      "reddit_results.csv\n"
     ]
    }
   ],
   "source": [
    "# full example\n",
    "query = \"what can i use as a letter of employment if I currently do not have a job\"\n",
    "llm_response = qa_chain(query)\n",
    "process_llm_response(llm_response)"
   ]
  },
  {
   "cell_type": "code",
   "execution_count": 19,
   "id": "affafbc6-2925-4887-880c-b623de2c32a1",
   "metadata": {},
   "outputs": [],
   "source": [
    "repo_id = \"TheBloke/Wizard-Vicuna-30B-Superhot-8K-fp16\"\n",
    "llm = HuggingFaceHub(huggingfacehub_api_token=huggingfacehub_api_token, \n",
    "                     repo_id=repo_id, \n",
    "                     model_kwargs={\"temperature\":0.6, \"max_new_tokens\":500})"
   ]
  },
  {
   "cell_type": "code",
   "execution_count": 20,
   "id": "0d9c6975-56d0-47f8-bca8-7c42160a26f5",
   "metadata": {},
   "outputs": [
    {
     "name": "stdout",
     "output_type": "stream",
     "text": [
      "\n",
      "\n",
      "The requirements to apply for common law vary depending on the country you are currently in. You should check with the authorities in that country to ensure you meet their specific requirements before applying.\n",
      "\n",
      "For Canada, the following are the requirements:\n",
      "\n",
      "1. You must have a valid temporary resident status.\n",
      "\n",
      "2. You must be cohabiting with your spouse or common-law partner.\n",
      "\n",
      "3. You must have a joint bank account, trust, or credit card.\n",
      "\n",
      "4. You must have a valid passport or other document that proves your identity.\n",
      "\n",
      "5. You must have submitted an application for permanent residency.\n",
      "\n",
      "6. You must have received a letter of sponsorship from the government.\n",
      "\n",
      "7. You must be in a genuine conjugal relationship that has been in place for at least one year.\n",
      "\n",
      "8. You must have a valid travel document or passport.\n",
      "\n",
      "9. You must have a letter of co-signer who is willing to take responsibility for the sponsorship.\n",
      "\n",
      "10. You must have sufficient funds to support yourself and your family.\n",
      "\n",
      "11. You must have submitted an application for permanent residency.\n",
      "\n",
      "12. You must have submitted a copy of your marriage certificate or a letter from the government that verifies your marriage.\n",
      "\n",
      "13. You must have submitted a copy of your birth certificate.\n",
      "\n",
      "14. You must have submitted a copy of your medical certificate.\n",
      "\n",
      "15. You must not have a criminal record.\n",
      "\n",
      "16. You must not have any outstanding immigration or legal fees.\n",
      "\n",
      "17. You must not have any other sponsorship applications pending.\n",
      "\n",
      "\n",
      "Sources:\n",
      "/Users/linqianpeng/Documents/immigration/data/canadian_government/Family sponsorship/Sponsor your spouse, partner or children_ who you can sponsor - Canada.ca.html\n",
      "/Users/linqianpeng/Documents/immigration/data/canadian_government/Family sponsorship/Sponsor your spouse, common-law partner, conjugal partner or dependent child – Complete Guide (IMM 5289) - Canada.ca.html\n",
      "/Users/linqianpeng/Documents/immigration/data/canadian_government/Family sponsorship/Guide 5196_ Sponsorship of adopted children and other relatives - Canada.ca.html\n",
      "/Users/linqianpeng/Documents/immigration/data/canadian_government/Family sponsorship/Guide 5196_ Sponsorship of adopted children and other relatives - Canada.ca.html\n"
     ]
    }
   ],
   "source": [
    "# full example\n",
    "query = \"what are the requirement to apply for common law?\"\n",
    "llm_response = qa_chain(query)\n",
    "process_llm_response(llm_response)"
   ]
  },
  {
   "cell_type": "code",
   "execution_count": null,
   "id": "b9fa35db-33dd-4835-953f-b121bf63b063",
   "metadata": {},
   "outputs": [],
   "source": []
  }
 ],
 "metadata": {
  "kernelspec": {
   "display_name": "Python 3 (ipykernel)",
   "language": "python",
   "name": "python3"
  },
  "language_info": {
   "codemirror_mode": {
    "name": "ipython",
    "version": 3
   },
   "file_extension": ".py",
   "mimetype": "text/x-python",
   "name": "python",
   "nbconvert_exporter": "python",
   "pygments_lexer": "ipython3",
   "version": "3.9.6"
  }
 },
 "nbformat": 4,
 "nbformat_minor": 5
}
